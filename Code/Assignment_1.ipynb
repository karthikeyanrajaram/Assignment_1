{
 "cells": [
  {
   "cell_type": "markdown",
   "metadata": {},
   "source": [
    "## Renaming the images and save to new dir"
   ]
  },
  {
   "cell_type": "code",
   "execution_count": 7,
   "metadata": {},
   "outputs": [],
   "source": [
    "import numpy as np\n",
    "import pandas as pd\n",
    "import matplotlib as plt\n",
    "\n",
    "import os\n",
    "dic = {'category 1':'new_category_1','category 2':'new_category_2','category 3':'new_category_3','category 4':'new_category_4'}\n",
    "m = 1\n",
    "for new_dir,cat_fold in dic.items():\n",
    "    if not os.path.isdir(cat_fold):\n",
    "        os.mkdir(cat_fold)\n",
    "\n",
    "    fidget_folders = [folder for folder in os.listdir('.') if new_dir in folder]\n",
    "\n",
    "    n = 0\n",
    "    for folder in fidget_folders:\n",
    "        for imfile in os.scandir(folder):\n",
    "            sav = 'cat'+str(m)+'.'\n",
    "            os.rename(imfile.path, os.path.join(cat_fold,  '{}{:0}.jpeg'.format(sav,n)))\n",
    "            n += 1\n",
    "    m += 1"
   ]
  },
  {
   "cell_type": "code",
   "execution_count": 3,
   "metadata": {},
   "outputs": [],
   "source": [
    "from tensorflow.keras.preprocessing.image import ImageDataGenerator\n",
    "\n",
    "datagen = ImageDataGenerator(\n",
    "        rotation_range=40,\n",
    "        width_shift_range=0.2,\n",
    "        height_shift_range=0.2,\n",
    "        rescale=1./255,\n",
    "        shear_range=0.2,\n",
    "        zoom_range=0.2,\n",
    "        horizontal_flip=True,\n",
    "        fill_mode='nearest')"
   ]
  },
  {
   "cell_type": "markdown",
   "metadata": {},
   "source": [
    "## Image in the dataset is low, inorder improve efficency of the model -->> Image generation is required"
   ]
  },
  {
   "cell_type": "code",
   "execution_count": 5,
   "metadata": {},
   "outputs": [],
   "source": [
    "import os\n",
    "from keras.preprocessing.image import ImageDataGenerator, array_to_img, img_to_array, load_img\n",
    "os.chdir('/Users/ASK Computers/Desktop/Datamites/Image/Input/Dataset/train/')\n",
    "n = 0\n",
    "m = 1\n",
    "t = [1,2,3,4]\n",
    "l=0\n",
    "for x in t:\n",
    "    image_dir = 'new_category_'+ str(x) +'/'\n",
    "\n",
    "    for new_imfile in os.scandir(image_dir):\n",
    "\n",
    "        sav = 'cat'+str(m)+'.'\n",
    "        img = load_img(os.path.join(image_dir, '{}{:0}.jpeg'.format(sav,n))) \n",
    "        n += 1\n",
    "        x = img_to_array(img)  \n",
    "        x = x.reshape((1,) + x.shape)  \n",
    "\n",
    "        \n",
    "        i = 0\n",
    "        \n",
    "        for batch in datagen.flow(x, batch_size=1,save_to_dir='cat'+ str(m), save_prefix='cat'+str(m)+'.', save_format='jpeg'):\n",
    "            i += 1\n",
    "            l += 1\n",
    "            if i > 10:\n",
    "                break  # otherwise the generator would loop indefinitely\n",
    "    n = 0\n",
    "    m += 1\n",
    "    l = 0"
   ]
  },
  {
   "cell_type": "markdown",
   "metadata": {},
   "source": [
    "## convert this dataset to training data -->>all of the images are same size (training size)"
   ]
  },
  {
   "cell_type": "code",
   "execution_count": 2,
   "metadata": {},
   "outputs": [
    {
     "data": {
      "image/png": "[encoded data removed]",
      "text/plain": [
       "<Figure size 432x288 with 1 Axes>"
      ]
     },
     "metadata": {},
     "output_type": "display_data"
    }
   ],
   "source": [
    "import numpy as np\n",
    "import matplotlib.pyplot as plt\n",
    "import os\n",
    "import cv2\n",
    "from tqdm import tqdm\n",
    "# os.chdir('/Users/ASK Computers/Desktop/Datamites/Image/Input/Dataset/train/')\n",
    "DATADIR = \"/Users/ASK Computers/Desktop/Datamites/Image/Input/Dataset/train\"\n",
    "\n",
    "CATEGORIES = [\"cat1\", \"Cat2\",\"cat3\",\"cat4\"]\n",
    "for category in CATEGORIES:  \n",
    "    path = os.path.join(DATADIR,category)  \n",
    "    for img in os.listdir(path):  \n",
    "        img_array = cv2.imread(os.path.join(path,img) ,cv2.THRESH_BINARY)  \n",
    "        plt.imshow(img_array, cmap='gray')  \n",
    "        plt.show()  \n",
    "        break  \n",
    "    break"
   ]
  },
  {
   "cell_type": "code",
   "execution_count": 3,
   "metadata": {},
   "outputs": [
    {
     "data": {
      "image/png": "[encoded data removed]",
      "text/plain": [
       "<Figure size 432x288 with 1 Axes>"
      ]
     },
     "metadata": {},
     "output_type": "display_data"
    }
   ],
   "source": [
    "IMG_SIZE = 50\n",
    "\n",
    "new_array = cv2.resize(img_array, (IMG_SIZE, IMG_SIZE))\n",
    "plt.imshow(new_array, cmap='gray')\n",
    "plt.show()\n",
    "\n"
   ]
  },
  {
   "cell_type": "code",
   "execution_count": 5,
   "metadata": {},
   "outputs": [
    {
     "name": "stderr",
     "output_type": "stream",
     "text": [
      "100%|██████████| 1062/1062 [00:28<00:00, 36.96it/s]\n",
      "100%|██████████| 1099/1099 [00:29<00:00, 36.79it/s]\n",
      "100%|██████████| 1144/1144 [00:26<00:00, 38.48it/s]\n",
      "100%|██████████| 1211/1211 [00:12<00:00, 100.51it/s]\n"
     ]
    },
    {
     "name": "stdout",
     "output_type": "stream",
     "text": [
      "4516\n"
     ]
    }
   ],
   "source": [
    "training_data = []\n",
    "\n",
    "def create_training_data():\n",
    "    for category in CATEGORIES:  \n",
    "\n",
    "        path = os.path.join(DATADIR,category)  \n",
    "        class_num = CATEGORIES.index(category) \n",
    "\n",
    "        for img in tqdm(os.listdir(path)):  \n",
    "            try:\n",
    "                img_array = cv2.imread(os.path.join(path,img) ,cv2.IMREAD_GRAYSCALE)  \n",
    "                new_array = cv2.resize(img_array, (IMG_SIZE, IMG_SIZE))  \n",
    "                training_data.append([new_array, class_num])  \n",
    "            except Exception as e:  \n",
    "                pass\n",
    "           \n",
    "\n",
    "create_training_data()\n",
    "\n",
    "print(len(training_data))"
   ]
  },
  {
   "cell_type": "markdown",
   "metadata": {},
   "source": [
    "## shuffle is required for training set -->> because it will order ..// it may increase validation accuracy"
   ]
  },
  {
   "cell_type": "code",
   "execution_count": 105,
   "metadata": {},
   "outputs": [],
   "source": [
    "import random\n",
    "\n",
    "random.shuffle(training_data)"
   ]
  },
  {
   "cell_type": "code",
   "execution_count": 10,
   "metadata": {},
   "outputs": [
    {
     "name": "stdout",
     "output_type": "stream",
     "text": [
      "1\n",
      "3\n",
      "3\n",
      "3\n",
      "2\n",
      "3\n",
      "2\n",
      "2\n",
      "2\n",
      "2\n"
     ]
    }
   ],
   "source": [
    "for sample in training_data[:10]:\n",
    "    print(sample[1])"
   ]
  },
  {
   "cell_type": "code",
   "execution_count": 8,
   "metadata": {},
   "outputs": [
    {
     "name": "stdout",
     "output_type": "stream",
     "text": [
      "[[[[  0]\n",
      "   [  0]\n",
      "   [  1]\n",
      "   ...\n",
      "   [255]\n",
      "   [255]\n",
      "   [255]]\n",
      "\n",
      "  [[  4]\n",
      "   [  1]\n",
      "   [  0]\n",
      "   ...\n",
      "   [255]\n",
      "   [255]\n",
      "   [255]]\n",
      "\n",
      "  [[254]\n",
      "   [254]\n",
      "   [ 44]\n",
      "   ...\n",
      "   [255]\n",
      "   [255]\n",
      "   [255]]\n",
      "\n",
      "  ...\n",
      "\n",
      "  [[255]\n",
      "   [255]\n",
      "   [255]\n",
      "   ...\n",
      "   [255]\n",
      "   [255]\n",
      "   [255]]\n",
      "\n",
      "  [[255]\n",
      "   [255]\n",
      "   [255]\n",
      "   ...\n",
      "   [255]\n",
      "   [255]\n",
      "   [255]]\n",
      "\n",
      "  [[255]\n",
      "   [255]\n",
      "   [255]\n",
      "   ...\n",
      "   [255]\n",
      "   [255]\n",
      "   [255]]]]\n"
     ]
    }
   ],
   "source": [
    "X = []\n",
    "y = []\n",
    "\n",
    "for features,label in training_data:\n",
    "    X.append(features)\n",
    "    y.append(label)\n",
    "\n",
    "print(X[0].reshape(-1, IMG_SIZE, IMG_SIZE, 1))\n",
    "\n",
    "X = np.array(X).reshape(-1, IMG_SIZE, IMG_SIZE, 1)"
   ]
  },
  {
   "cell_type": "code",
   "execution_count": 15,
   "metadata": {},
   "outputs": [],
   "source": [
    "import pickle\n",
    "\n",
    "pickle_out = open(\"X.pickle\",\"wb\")\n",
    "pickle.dump(X, pickle_out)\n",
    "pickle_out.close()\n",
    "\n",
    "pickle_out = open(\"y.pickle\",\"wb\")\n",
    "pickle.dump(y, pickle_out)\n",
    "pickle_out.close()\n",
    "\n",
    "pickle_in = open(\"X.pickle\",\"rb\")\n",
    "X = pickle.load(pickle_in)\n",
    "\n",
    "pickle_in = open(\"y.pickle\",\"rb\")\n",
    "y = pickle.load(pickle_in)"
   ]
  },
  {
   "cell_type": "markdown",
   "metadata": {},
   "source": [
    "## To split training set to train and test"
   ]
  },
  {
   "cell_type": "code",
   "execution_count": 18,
   "metadata": {},
   "outputs": [],
   "source": [
    "from sklearn.model_selection import train_test_split\n",
    "\n",
    "X_train, X_test, y_train, y_test = train_test_split(X,y, test_size=0.5, random_state=10)"
   ]
  },
  {
   "cell_type": "code",
   "execution_count": 19,
   "metadata": {},
   "outputs": [
    {
     "data": {
      "text/plain": [
       "(50, 50, 1)"
      ]
     },
     "execution_count": 19,
     "metadata": {},
     "output_type": "execute_result"
    }
   ],
   "source": [
    "X_train[0].shape"
   ]
  },
  {
   "cell_type": "code",
   "execution_count": 23,
   "metadata": {},
   "outputs": [
    {
     "name": "stderr",
     "output_type": "stream",
     "text": [
      "Using TensorFlow backend.\n"
     ]
    },
    {
     "data": {
      "text/plain": [
       "array([0., 0., 1., 0.], dtype=float32)"
      ]
     },
     "execution_count": 23,
     "metadata": {},
     "output_type": "execute_result"
    }
   ],
   "source": [
    "from keras.utils import to_categorical\n",
    "y_train = to_categorical(y_train)\n",
    "y_test = to_categorical(y_test)\n",
    "\n",
    "y_train[0]"
   ]
  },
  {
   "cell_type": "code",
   "execution_count": 25,
   "metadata": {},
   "outputs": [
    {
     "name": "stdout",
     "output_type": "stream",
     "text": [
      "Train on 2258 samples, validate on 2258 samples\n",
      "Epoch 1/10\n",
      "2258/2258 [==============================] - ETA: 1:17 - loss: 1.4121 - acc: 0.187 - ETA: 56s - loss: 2.6788 - acc: 0.218 - ETA: 48s - loss: 2.4995 - acc: 0.28 - ETA: 44s - loss: 2.1862 - acc: 0.28 - ETA: 42s - loss: 2.0398 - acc: 0.27 - ETA: 40s - loss: 1.9399 - acc: 0.27 - ETA: 38s - loss: 1.8654 - acc: 0.26 - ETA: 37s - loss: 1.8020 - acc: 0.26 - ETA: 36s - loss: 1.7598 - acc: 0.25 - ETA: 35s - loss: 1.7241 - acc: 0.25 - ETA: 34s - loss: 1.6919 - acc: 0.26 - ETA: 33s - loss: 1.6634 - acc: 0.27 - ETA: 33s - loss: 1.6379 - acc: 0.29 - ETA: 32s - loss: 1.6170 - acc: 0.30 - ETA: 31s - loss: 1.5965 - acc: 0.32 - ETA: 30s - loss: 1.5759 - acc: 0.34 - ETA: 30s - loss: 1.5566 - acc: 0.36 - ETA: 29s - loss: 1.5378 - acc: 0.37 - ETA: 28s - loss: 1.5188 - acc: 0.37 - ETA: 28s - loss: 1.4967 - acc: 0.38 - ETA: 27s - loss: 1.4836 - acc: 0.38 - ETA: 26s - loss: 1.4603 - acc: 0.39 - ETA: 26s - loss: 1.4404 - acc: 0.40 - ETA: 25s - loss: 1.4231 - acc: 0.40 - ETA: 25s - loss: 1.4025 - acc: 0.42 - ETA: 24s - loss: 1.3832 - acc: 0.42 - ETA: 24s - loss: 1.3614 - acc: 0.43 - ETA: 23s - loss: 1.3472 - acc: 0.43 - ETA: 23s - loss: 1.3320 - acc: 0.44 - ETA: 22s - loss: 1.3166 - acc: 0.45 - ETA: 22s - loss: 1.3012 - acc: 0.45 - ETA: 21s - loss: 1.2940 - acc: 0.45 - ETA: 21s - loss: 1.2816 - acc: 0.45 - ETA: 20s - loss: 1.2646 - acc: 0.46 - ETA: 20s - loss: 1.2516 - acc: 0.46 - ETA: 19s - loss: 1.2415 - acc: 0.46 - ETA: 19s - loss: 1.2276 - acc: 0.47 - ETA: 18s - loss: 1.2164 - acc: 0.47 - ETA: 18s - loss: 1.2059 - acc: 0.48 - ETA: 17s - loss: 1.1869 - acc: 0.49 - ETA: 16s - loss: 1.1710 - acc: 0.49 - ETA: 16s - loss: 1.1629 - acc: 0.50 - ETA: 15s - loss: 1.1531 - acc: 0.50 - ETA: 15s - loss: 1.1403 - acc: 0.50 - ETA: 14s - loss: 1.1297 - acc: 0.51 - ETA: 13s - loss: 1.1199 - acc: 0.51 - ETA: 13s - loss: 1.1104 - acc: 0.51 - ETA: 12s - loss: 1.1051 - acc: 0.52 - ETA: 12s - loss: 1.0936 - acc: 0.52 - ETA: 11s - loss: 1.0860 - acc: 0.53 - ETA: 10s - loss: 1.0746 - acc: 0.53 - ETA: 10s - loss: 1.0661 - acc: 0.54 - ETA: 9s - loss: 1.0565 - acc: 0.5478 - ETA: 9s - loss: 1.0496 - acc: 0.551 - ETA: 8s - loss: 1.0367 - acc: 0.558 - ETA: 8s - loss: 1.0321 - acc: 0.560 - ETA: 7s - loss: 1.0277 - acc: 0.562 - ETA: 6s - loss: 1.0207 - acc: 0.565 - ETA: 6s - loss: 1.0114 - acc: 0.570 - ETA: 5s - loss: 1.0043 - acc: 0.574 - ETA: 5s - loss: 0.9969 - acc: 0.577 - ETA: 4s - loss: 0.9923 - acc: 0.582 - ETA: 4s - loss: 0.9872 - acc: 0.584 - ETA: 3s - loss: 0.9791 - acc: 0.587 - ETA: 3s - loss: 0.9692 - acc: 0.593 - ETA: 2s - loss: 0.9661 - acc: 0.597 - ETA: 1s - loss: 0.9624 - acc: 0.598 - ETA: 1s - loss: 0.9583 - acc: 0.600 - ETA: 0s - loss: 0.9528 - acc: 0.603 - ETA: 0s - loss: 0.9449 - acc: 0.607 - 54s 24ms/step - loss: 0.9461 - acc: 0.6058 - val_loss: 0.5595 - val_acc: 0.7817\n",
      "Epoch 2/10\n",
      "2258/2258 [==============================] - ETA: 39s - loss: 0.4108 - acc: 0.81 - ETA: 37s - loss: 0.3805 - acc: 0.85 - ETA: 37s - loss: 0.3841 - acc: 0.86 - ETA: 36s - loss: 0.4009 - acc: 0.85 - ETA: 37s - loss: 0.3995 - acc: 0.84 - ETA: 36s - loss: 0.3889 - acc: 0.85 - ETA: 36s - loss: 0.3947 - acc: 0.86 - ETA: 36s - loss: 0.3827 - acc: 0.86 - ETA: 36s - loss: 0.3761 - acc: 0.86 - ETA: 35s - loss: 0.3752 - acc: 0.87 - ETA: 34s - loss: 0.3873 - acc: 0.86 - ETA: 33s - loss: 0.3913 - acc: 0.86 - ETA: 33s - loss: 0.3891 - acc: 0.87 - ETA: 32s - loss: 0.3984 - acc: 0.86 - ETA: 31s - loss: 0.3883 - acc: 0.86 - ETA: 31s - loss: 0.3836 - acc: 0.86 - ETA: 30s - loss: 0.3918 - acc: 0.86 - ETA: 29s - loss: 0.3854 - acc: 0.86 - ETA: 28s - loss: 0.3906 - acc: 0.87 - ETA: 28s - loss: 0.3951 - acc: 0.86 - ETA: 27s - loss: 0.4003 - acc: 0.86 - ETA: 27s - loss: 0.4026 - acc: 0.86 - ETA: 26s - loss: 0.3997 - acc: 0.86 - ETA: 25s - loss: 0.3972 - acc: 0.86 - ETA: 25s - loss: 0.3918 - acc: 0.86 - ETA: 24s - loss: 0.3868 - acc: 0.87 - ETA: 24s - loss: 0.3854 - acc: 0.87 - ETA: 23s - loss: 0.3797 - acc: 0.87 - ETA: 22s - loss: 0.3774 - acc: 0.87 - ETA: 22s - loss: 0.3702 - acc: 0.87 - ETA: 21s - loss: 0.3659 - acc: 0.88 - ETA: 21s - loss: 0.3713 - acc: 0.87 - ETA: 20s - loss: 0.3686 - acc: 0.87 - ETA: 19s - loss: 0.3639 - acc: 0.87 - ETA: 19s - loss: 0.3680 - acc: 0.87 - ETA: 18s - loss: 0.3682 - acc: 0.87 - ETA: 18s - loss: 0.3695 - acc: 0.87 - ETA: 17s - loss: 0.3751 - acc: 0.87 - ETA: 17s - loss: 0.3723 - acc: 0.87 - ETA: 16s - loss: 0.3665 - acc: 0.87 - ETA: 16s - loss: 0.3695 - acc: 0.87 - ETA: 15s - loss: 0.3693 - acc: 0.87 - ETA: 14s - loss: 0.3663 - acc: 0.88 - ETA: 14s - loss: 0.3662 - acc: 0.88 - ETA: 13s - loss: 0.3662 - acc: 0.88 - ETA: 13s - loss: 0.3637 - acc: 0.88 - ETA: 12s - loss: 0.3674 - acc: 0.88 - ETA: 12s - loss: 0.3635 - acc: 0.88 - ETA: 11s - loss: 0.3643 - acc: 0.88 - ETA: 11s - loss: 0.3632 - acc: 0.88 - ETA: 10s - loss: 0.3618 - acc: 0.88 - ETA: 9s - loss: 0.3607 - acc: 0.8804 - ETA: 9s - loss: 0.3591 - acc: 0.880 - ETA: 8s - loss: 0.3589 - acc: 0.879 - ETA: 8s - loss: 0.3574 - acc: 0.880 - ETA: 7s - loss: 0.3549 - acc: 0.880 - ETA: 7s - loss: 0.3544 - acc: 0.879 - ETA: 6s - loss: 0.3526 - acc: 0.880 - ETA: 6s - loss: 0.3546 - acc: 0.879 - ETA: 5s - loss: 0.3571 - acc: 0.878 - ETA: 5s - loss: 0.3567 - acc: 0.878 - ETA: 4s - loss: 0.3560 - acc: 0.878 - ETA: 4s - loss: 0.3542 - acc: 0.879 - ETA: 3s - loss: 0.3550 - acc: 0.878 - ETA: 3s - loss: 0.3538 - acc: 0.879 - ETA: 2s - loss: 0.3529 - acc: 0.879 - ETA: 1s - loss: 0.3506 - acc: 0.880 - ETA: 1s - loss: 0.3510 - acc: 0.879 - ETA: 0s - loss: 0.3498 - acc: 0.880 - ETA: 0s - loss: 0.3486 - acc: 0.881 - 52s 23ms/step - loss: 0.3504 - acc: 0.8800 - val_loss: 0.3821 - val_acc: 0.8658\n",
      "Epoch 3/10\n"
     ]
    },
    {
     "name": "stdout",
     "output_type": "stream",
     "text": [
      "2258/2258 [==============================] - ETA: 37s - loss: 0.1227 - acc: 0.96 - ETA: 37s - loss: 0.1319 - acc: 0.98 - ETA: 36s - loss: 0.1461 - acc: 0.96 - ETA: 35s - loss: 0.1708 - acc: 0.95 - ETA: 34s - loss: 0.1767 - acc: 0.95 - ETA: 34s - loss: 0.1840 - acc: 0.94 - ETA: 34s - loss: 0.1875 - acc: 0.94 - ETA: 33s - loss: 0.1852 - acc: 0.94 - ETA: 32s - loss: 0.1960 - acc: 0.94 - ETA: 32s - loss: 0.1993 - acc: 0.94 - ETA: 31s - loss: 0.2020 - acc: 0.93 - ETA: 31s - loss: 0.1969 - acc: 0.94 - ETA: 30s - loss: 0.1915 - acc: 0.94 - ETA: 29s - loss: 0.1927 - acc: 0.94 - ETA: 29s - loss: 0.1962 - acc: 0.93 - ETA: 28s - loss: 0.1912 - acc: 0.94 - ETA: 28s - loss: 0.1878 - acc: 0.94 - ETA: 27s - loss: 0.1858 - acc: 0.94 - ETA: 27s - loss: 0.1891 - acc: 0.94 - ETA: 26s - loss: 0.1857 - acc: 0.94 - ETA: 26s - loss: 0.1826 - acc: 0.94 - ETA: 25s - loss: 0.1846 - acc: 0.94 - ETA: 25s - loss: 0.1832 - acc: 0.94 - ETA: 24s - loss: 0.1815 - acc: 0.95 - ETA: 24s - loss: 0.1811 - acc: 0.95 - ETA: 23s - loss: 0.1852 - acc: 0.95 - ETA: 23s - loss: 0.1862 - acc: 0.95 - ETA: 22s - loss: 0.1846 - acc: 0.95 - ETA: 21s - loss: 0.1835 - acc: 0.95 - ETA: 21s - loss: 0.1825 - acc: 0.95 - ETA: 20s - loss: 0.1883 - acc: 0.95 - ETA: 20s - loss: 0.1886 - acc: 0.94 - ETA: 19s - loss: 0.1878 - acc: 0.94 - ETA: 19s - loss: 0.1878 - acc: 0.94 - ETA: 18s - loss: 0.1897 - acc: 0.94 - ETA: 18s - loss: 0.1864 - acc: 0.94 - ETA: 17s - loss: 0.1857 - acc: 0.94 - ETA: 17s - loss: 0.1837 - acc: 0.94 - ETA: 16s - loss: 0.1812 - acc: 0.95 - ETA: 16s - loss: 0.1839 - acc: 0.94 - ETA: 15s - loss: 0.1846 - acc: 0.94 - ETA: 15s - loss: 0.1843 - acc: 0.94 - ETA: 14s - loss: 0.1835 - acc: 0.94 - ETA: 14s - loss: 0.1851 - acc: 0.94 - ETA: 13s - loss: 0.1825 - acc: 0.94 - ETA: 13s - loss: 0.1804 - acc: 0.94 - ETA: 12s - loss: 0.1837 - acc: 0.94 - ETA: 11s - loss: 0.1822 - acc: 0.94 - ETA: 11s - loss: 0.1855 - acc: 0.94 - ETA: 10s - loss: 0.1881 - acc: 0.94 - ETA: 10s - loss: 0.1911 - acc: 0.94 - ETA: 9s - loss: 0.1925 - acc: 0.9447 - ETA: 9s - loss: 0.1924 - acc: 0.944 - ETA: 8s - loss: 0.1921 - acc: 0.943 - ETA: 8s - loss: 0.1939 - acc: 0.942 - ETA: 7s - loss: 0.1941 - acc: 0.942 - ETA: 7s - loss: 0.1948 - acc: 0.941 - ETA: 6s - loss: 0.1935 - acc: 0.942 - ETA: 6s - loss: 0.1929 - acc: 0.942 - ETA: 5s - loss: 0.1953 - acc: 0.941 - ETA: 5s - loss: 0.1943 - acc: 0.942 - ETA: 4s - loss: 0.1943 - acc: 0.943 - ETA: 4s - loss: 0.1942 - acc: 0.943 - ETA: 3s - loss: 0.1948 - acc: 0.942 - ETA: 2s - loss: 0.1936 - acc: 0.943 - ETA: 2s - loss: 0.1976 - acc: 0.941 - ETA: 1s - loss: 0.1978 - acc: 0.941 - ETA: 1s - loss: 0.1960 - acc: 0.942 - ETA: 0s - loss: 0.1982 - acc: 0.941 - ETA: 0s - loss: 0.1984 - acc: 0.940 - 50s 22ms/step - loss: 0.1981 - acc: 0.9407 - val_loss: 0.4197 - val_acc: 0.8388\n",
      "Epoch 4/10\n",
      "2258/2258 [==============================] - ETA: 37s - loss: 0.1144 - acc: 0.96 - ETA: 36s - loss: 0.1206 - acc: 0.96 - ETA: 35s - loss: 0.1188 - acc: 0.96 - ETA: 34s - loss: 0.1078 - acc: 0.96 - ETA: 34s - loss: 0.1047 - acc: 0.96 - ETA: 33s - loss: 0.1166 - acc: 0.96 - ETA: 33s - loss: 0.1165 - acc: 0.96 - ETA: 32s - loss: 0.1097 - acc: 0.96 - ETA: 32s - loss: 0.1103 - acc: 0.96 - ETA: 31s - loss: 0.1124 - acc: 0.96 - ETA: 31s - loss: 0.1089 - acc: 0.96 - ETA: 30s - loss: 0.1070 - acc: 0.97 - ETA: 29s - loss: 0.1028 - acc: 0.97 - ETA: 29s - loss: 0.0996 - acc: 0.97 - ETA: 28s - loss: 0.0960 - acc: 0.97 - ETA: 28s - loss: 0.0993 - acc: 0.97 - ETA: 28s - loss: 0.0976 - acc: 0.97 - ETA: 27s - loss: 0.0977 - acc: 0.97 - ETA: 27s - loss: 0.0962 - acc: 0.97 - ETA: 26s - loss: 0.0985 - acc: 0.97 - ETA: 25s - loss: 0.0974 - acc: 0.97 - ETA: 25s - loss: 0.0976 - acc: 0.97 - ETA: 24s - loss: 0.0975 - acc: 0.97 - ETA: 24s - loss: 0.0971 - acc: 0.97 - ETA: 23s - loss: 0.0958 - acc: 0.97 - ETA: 23s - loss: 0.0950 - acc: 0.97 - ETA: 22s - loss: 0.0943 - acc: 0.97 - ETA: 22s - loss: 0.0921 - acc: 0.97 - ETA: 21s - loss: 0.0897 - acc: 0.97 - ETA: 21s - loss: 0.0917 - acc: 0.97 - ETA: 20s - loss: 0.0918 - acc: 0.97 - ETA: 20s - loss: 0.0929 - acc: 0.97 - ETA: 19s - loss: 0.0923 - acc: 0.97 - ETA: 19s - loss: 0.0909 - acc: 0.97 - ETA: 18s - loss: 0.0929 - acc: 0.97 - ETA: 18s - loss: 0.0944 - acc: 0.97 - ETA: 17s - loss: 0.0938 - acc: 0.97 - ETA: 17s - loss: 0.0918 - acc: 0.97 - ETA: 16s - loss: 0.0921 - acc: 0.97 - ETA: 16s - loss: 0.0916 - acc: 0.97 - ETA: 15s - loss: 0.0911 - acc: 0.97 - ETA: 15s - loss: 0.0911 - acc: 0.97 - ETA: 14s - loss: 0.0899 - acc: 0.97 - ETA: 14s - loss: 0.0902 - acc: 0.97 - ETA: 13s - loss: 0.0895 - acc: 0.97 - ETA: 13s - loss: 0.0888 - acc: 0.97 - ETA: 12s - loss: 0.0920 - acc: 0.97 - ETA: 12s - loss: 0.0925 - acc: 0.97 - ETA: 11s - loss: 0.0940 - acc: 0.97 - ETA: 11s - loss: 0.0931 - acc: 0.97 - ETA: 10s - loss: 0.0931 - acc: 0.97 - ETA: 9s - loss: 0.0937 - acc: 0.9736 - ETA: 9s - loss: 0.0942 - acc: 0.972 - ETA: 8s - loss: 0.0972 - acc: 0.971 - ETA: 8s - loss: 0.0967 - acc: 0.971 - ETA: 7s - loss: 0.0958 - acc: 0.972 - ETA: 7s - loss: 0.0968 - acc: 0.971 - ETA: 6s - loss: 0.0989 - acc: 0.970 - ETA: 6s - loss: 0.0983 - acc: 0.971 - ETA: 5s - loss: 0.0976 - acc: 0.971 - ETA: 5s - loss: 0.0987 - acc: 0.971 - ETA: 4s - loss: 0.0986 - acc: 0.971 - ETA: 4s - loss: 0.0981 - acc: 0.971 - ETA: 3s - loss: 0.0984 - acc: 0.970 - ETA: 3s - loss: 0.0998 - acc: 0.969 - ETA: 2s - loss: 0.0993 - acc: 0.969 - ETA: 1s - loss: 0.0986 - acc: 0.970 - ETA: 1s - loss: 0.1000 - acc: 0.970 - ETA: 0s - loss: 0.0993 - acc: 0.970 - ETA: 0s - loss: 0.0997 - acc: 0.970 - 54s 24ms/step - loss: 0.1006 - acc: 0.9699 - val_loss: 0.4579 - val_acc: 0.8304\n",
      "Epoch 5/10\n"
     ]
    },
    {
     "name": "stdout",
     "output_type": "stream",
     "text": [
      "2258/2258 [==============================] - ETA: 35s - loss: 0.0623 - acc: 1.00 - ETA: 35s - loss: 0.0766 - acc: 1.00 - ETA: 35s - loss: 0.0597 - acc: 1.00 - ETA: 34s - loss: 0.0509 - acc: 1.00 - ETA: 34s - loss: 0.0487 - acc: 1.00 - ETA: 33s - loss: 0.0465 - acc: 1.00 - ETA: 33s - loss: 0.0575 - acc: 0.99 - ETA: 32s - loss: 0.0563 - acc: 0.99 - ETA: 32s - loss: 0.0652 - acc: 0.98 - ETA: 31s - loss: 0.0615 - acc: 0.99 - ETA: 31s - loss: 0.0571 - acc: 0.99 - ETA: 32s - loss: 0.0556 - acc: 0.99 - ETA: 32s - loss: 0.0539 - acc: 0.99 - ETA: 32s - loss: 0.0597 - acc: 0.98 - ETA: 31s - loss: 0.0604 - acc: 0.98 - ETA: 31s - loss: 0.0596 - acc: 0.98 - ETA: 30s - loss: 0.0585 - acc: 0.98 - ETA: 30s - loss: 0.0570 - acc: 0.98 - ETA: 30s - loss: 0.0573 - acc: 0.99 - ETA: 30s - loss: 0.0559 - acc: 0.99 - ETA: 29s - loss: 0.0547 - acc: 0.99 - ETA: 29s - loss: 0.0554 - acc: 0.99 - ETA: 28s - loss: 0.0543 - acc: 0.99 - ETA: 28s - loss: 0.0544 - acc: 0.99 - ETA: 27s - loss: 0.0530 - acc: 0.99 - ETA: 27s - loss: 0.0530 - acc: 0.99 - ETA: 26s - loss: 0.0529 - acc: 0.99 - ETA: 26s - loss: 0.0523 - acc: 0.99 - ETA: 25s - loss: 0.0575 - acc: 0.99 - ETA: 25s - loss: 0.0579 - acc: 0.99 - ETA: 24s - loss: 0.0565 - acc: 0.99 - ETA: 23s - loss: 0.0566 - acc: 0.99 - ETA: 22s - loss: 0.0556 - acc: 0.99 - ETA: 22s - loss: 0.0545 - acc: 0.99 - ETA: 21s - loss: 0.0569 - acc: 0.98 - ETA: 21s - loss: 0.0563 - acc: 0.98 - ETA: 20s - loss: 0.0559 - acc: 0.98 - ETA: 19s - loss: 0.0550 - acc: 0.99 - ETA: 19s - loss: 0.0547 - acc: 0.99 - ETA: 18s - loss: 0.0557 - acc: 0.98 - ETA: 18s - loss: 0.0547 - acc: 0.99 - ETA: 17s - loss: 0.0544 - acc: 0.99 - ETA: 16s - loss: 0.0534 - acc: 0.99 - ETA: 16s - loss: 0.0525 - acc: 0.99 - ETA: 15s - loss: 0.0527 - acc: 0.99 - ETA: 14s - loss: 0.0529 - acc: 0.98 - ETA: 14s - loss: 0.0526 - acc: 0.99 - ETA: 13s - loss: 0.0521 - acc: 0.99 - ETA: 13s - loss: 0.0530 - acc: 0.98 - ETA: 12s - loss: 0.0524 - acc: 0.99 - ETA: 11s - loss: 0.0519 - acc: 0.99 - ETA: 11s - loss: 0.0519 - acc: 0.99 - ETA: 10s - loss: 0.0510 - acc: 0.99 - ETA: 9s - loss: 0.0505 - acc: 0.9907 - ETA: 9s - loss: 0.0501 - acc: 0.990 - ETA: 8s - loss: 0.0497 - acc: 0.991 - ETA: 8s - loss: 0.0493 - acc: 0.991 - ETA: 7s - loss: 0.0519 - acc: 0.990 - ETA: 6s - loss: 0.0519 - acc: 0.989 - ETA: 6s - loss: 0.0522 - acc: 0.989 - ETA: 5s - loss: 0.0518 - acc: 0.989 - ETA: 5s - loss: 0.0515 - acc: 0.989 - ETA: 4s - loss: 0.0521 - acc: 0.990 - ETA: 3s - loss: 0.0556 - acc: 0.988 - ETA: 3s - loss: 0.0552 - acc: 0.988 - ETA: 2s - loss: 0.0550 - acc: 0.988 - ETA: 2s - loss: 0.0549 - acc: 0.988 - ETA: 1s - loss: 0.0543 - acc: 0.989 - ETA: 0s - loss: 0.0541 - acc: 0.989 - ETA: 0s - loss: 0.0541 - acc: 0.989 - 55s 24ms/step - loss: 0.0548 - acc: 0.9889 - val_loss: 0.5116 - val_acc: 0.8260\n",
      "Epoch 6/10\n",
      "2258/2258 [==============================] - ETA: 40s - loss: 0.0738 - acc: 1.00 - ETA: 38s - loss: 0.0533 - acc: 1.00 - ETA: 37s - loss: 0.0412 - acc: 1.00 - ETA: 36s - loss: 0.0374 - acc: 1.00 - ETA: 35s - loss: 0.0462 - acc: 0.99 - ETA: 34s - loss: 0.0447 - acc: 0.99 - ETA: 33s - loss: 0.0453 - acc: 0.99 - ETA: 33s - loss: 0.0466 - acc: 0.99 - ETA: 32s - loss: 0.0431 - acc: 0.99 - ETA: 32s - loss: 0.0416 - acc: 0.99 - ETA: 31s - loss: 0.0394 - acc: 0.99 - ETA: 31s - loss: 0.0400 - acc: 0.99 - ETA: 31s - loss: 0.0400 - acc: 0.99 - ETA: 31s - loss: 0.0409 - acc: 0.99 - ETA: 30s - loss: 0.0391 - acc: 0.99 - ETA: 29s - loss: 0.0371 - acc: 0.99 - ETA: 29s - loss: 0.0364 - acc: 0.99 - ETA: 28s - loss: 0.0361 - acc: 0.99 - ETA: 28s - loss: 0.0348 - acc: 0.99 - ETA: 28s - loss: 0.0356 - acc: 0.99 - ETA: 28s - loss: 0.0351 - acc: 0.99 - ETA: 27s - loss: 0.0340 - acc: 0.99 - ETA: 26s - loss: 0.0333 - acc: 0.99 - ETA: 26s - loss: 0.0332 - acc: 0.99 - ETA: 25s - loss: 0.0324 - acc: 0.99 - ETA: 25s - loss: 0.0316 - acc: 0.99 - ETA: 24s - loss: 0.0307 - acc: 0.99 - ETA: 24s - loss: 0.0300 - acc: 0.99 - ETA: 23s - loss: 0.0293 - acc: 0.99 - ETA: 23s - loss: 0.0306 - acc: 0.99 - ETA: 22s - loss: 0.0302 - acc: 0.99 - ETA: 22s - loss: 0.0296 - acc: 0.99 - ETA: 21s - loss: 0.0296 - acc: 0.99 - ETA: 21s - loss: 0.0297 - acc: 0.99 - ETA: 20s - loss: 0.0292 - acc: 0.99 - ETA: 20s - loss: 0.0289 - acc: 0.99 - ETA: 19s - loss: 0.0289 - acc: 0.99 - ETA: 19s - loss: 0.0290 - acc: 0.99 - ETA: 18s - loss: 0.0285 - acc: 0.99 - ETA: 18s - loss: 0.0282 - acc: 0.99 - ETA: 17s - loss: 0.0277 - acc: 0.99 - ETA: 17s - loss: 0.0273 - acc: 0.99 - ETA: 16s - loss: 0.0269 - acc: 0.99 - ETA: 15s - loss: 0.0263 - acc: 0.99 - ETA: 15s - loss: 0.0264 - acc: 0.99 - ETA: 14s - loss: 0.0265 - acc: 0.99 - ETA: 14s - loss: 0.0264 - acc: 0.99 - ETA: 13s - loss: 0.0263 - acc: 0.99 - ETA: 13s - loss: 0.0272 - acc: 0.99 - ETA: 12s - loss: 0.0270 - acc: 0.99 - ETA: 12s - loss: 0.0269 - acc: 0.99 - ETA: 11s - loss: 0.0270 - acc: 0.99 - ETA: 10s - loss: 0.0269 - acc: 0.99 - ETA: 10s - loss: 0.0272 - acc: 0.99 - ETA: 9s - loss: 0.0271 - acc: 0.9949 - ETA: 9s - loss: 0.0270 - acc: 0.995 - ETA: 8s - loss: 0.0269 - acc: 0.995 - ETA: 7s - loss: 0.0272 - acc: 0.995 - ETA: 7s - loss: 0.0270 - acc: 0.995 - ETA: 6s - loss: 0.0271 - acc: 0.994 - ETA: 5s - loss: 0.0278 - acc: 0.994 - ETA: 5s - loss: 0.0276 - acc: 0.995 - ETA: 4s - loss: 0.0276 - acc: 0.995 - ETA: 4s - loss: 0.0279 - acc: 0.994 - ETA: 3s - loss: 0.0283 - acc: 0.994 - ETA: 2s - loss: 0.0282 - acc: 0.994 - ETA: 2s - loss: 0.0289 - acc: 0.993 - ETA: 1s - loss: 0.0286 - acc: 0.994 - ETA: 0s - loss: 0.0286 - acc: 0.994 - ETA: 0s - loss: 0.0285 - acc: 0.994 - 60s 27ms/step - loss: 0.0294 - acc: 0.9938 - val_loss: 0.4783 - val_acc: 0.8618\n",
      "Epoch 7/10\n"
     ]
    },
    {
     "name": "stdout",
     "output_type": "stream",
     "text": [
      "2258/2258 [==============================] - ETA: 37s - loss: 0.0169 - acc: 1.00 - ETA: 36s - loss: 0.0106 - acc: 1.00 - ETA: 37s - loss: 0.0118 - acc: 1.00 - ETA: 36s - loss: 0.0114 - acc: 1.00 - ETA: 35s - loss: 0.0118 - acc: 1.00 - ETA: 34s - loss: 0.0112 - acc: 1.00 - ETA: 34s - loss: 0.0118 - acc: 1.00 - ETA: 35s - loss: 0.0114 - acc: 1.00 - ETA: 34s - loss: 0.0117 - acc: 1.00 - ETA: 33s - loss: 0.0113 - acc: 1.00 - ETA: 32s - loss: 0.0129 - acc: 1.00 - ETA: 32s - loss: 0.0138 - acc: 1.00 - ETA: 32s - loss: 0.0137 - acc: 1.00 - ETA: 32s - loss: 0.0130 - acc: 1.00 - ETA: 31s - loss: 0.0130 - acc: 1.00 - ETA: 31s - loss: 0.0125 - acc: 1.00 - ETA: 31s - loss: 0.0131 - acc: 1.00 - ETA: 31s - loss: 0.0139 - acc: 0.99 - ETA: 30s - loss: 0.0141 - acc: 0.99 - ETA: 30s - loss: 0.0146 - acc: 0.99 - ETA: 29s - loss: 0.0141 - acc: 0.99 - ETA: 28s - loss: 0.0137 - acc: 0.99 - ETA: 28s - loss: 0.0133 - acc: 0.99 - ETA: 27s - loss: 0.0136 - acc: 0.99 - ETA: 27s - loss: 0.0133 - acc: 0.99 - ETA: 26s - loss: 0.0131 - acc: 0.99 - ETA: 26s - loss: 0.0144 - acc: 0.99 - ETA: 25s - loss: 0.0142 - acc: 0.99 - ETA: 24s - loss: 0.0147 - acc: 0.99 - ETA: 24s - loss: 0.0145 - acc: 0.99 - ETA: 23s - loss: 0.0144 - acc: 0.99 - ETA: 22s - loss: 0.0142 - acc: 0.99 - ETA: 22s - loss: 0.0141 - acc: 0.99 - ETA: 21s - loss: 0.0145 - acc: 0.99 - ETA: 20s - loss: 0.0145 - acc: 0.99 - ETA: 20s - loss: 0.0147 - acc: 0.99 - ETA: 19s - loss: 0.0147 - acc: 0.99 - ETA: 18s - loss: 0.0145 - acc: 0.99 - ETA: 18s - loss: 0.0142 - acc: 0.99 - ETA: 17s - loss: 0.0143 - acc: 0.99 - ETA: 17s - loss: 0.0141 - acc: 0.99 - ETA: 16s - loss: 0.0148 - acc: 0.99 - ETA: 15s - loss: 0.0148 - acc: 0.99 - ETA: 15s - loss: 0.0146 - acc: 0.99 - ETA: 14s - loss: 0.0153 - acc: 0.99 - ETA: 14s - loss: 0.0152 - acc: 0.99 - ETA: 13s - loss: 0.0150 - acc: 0.99 - ETA: 12s - loss: 0.0150 - acc: 0.99 - ETA: 12s - loss: 0.0154 - acc: 0.99 - ETA: 11s - loss: 0.0153 - acc: 0.99 - ETA: 11s - loss: 0.0151 - acc: 0.99 - ETA: 10s - loss: 0.0149 - acc: 0.99 - ETA: 10s - loss: 0.0149 - acc: 0.99 - ETA: 9s - loss: 0.0147 - acc: 0.9971 - ETA: 8s - loss: 0.0145 - acc: 0.997 - ETA: 8s - loss: 0.0145 - acc: 0.997 - ETA: 7s - loss: 0.0144 - acc: 0.997 - ETA: 7s - loss: 0.0143 - acc: 0.997 - ETA: 6s - loss: 0.0141 - acc: 0.997 - ETA: 5s - loss: 0.0140 - acc: 0.997 - ETA: 5s - loss: 0.0138 - acc: 0.997 - ETA: 4s - loss: 0.0137 - acc: 0.997 - ETA: 4s - loss: 0.0135 - acc: 0.997 - ETA: 3s - loss: 0.0135 - acc: 0.997 - ETA: 3s - loss: 0.0134 - acc: 0.997 - ETA: 2s - loss: 0.0133 - acc: 0.997 - ETA: 2s - loss: 0.0132 - acc: 0.997 - ETA: 1s - loss: 0.0135 - acc: 0.997 - ETA: 0s - loss: 0.0136 - acc: 0.997 - ETA: 0s - loss: 0.0136 - acc: 0.997 - 53s 24ms/step - loss: 0.0136 - acc: 0.9973 - val_loss: 0.4837 - val_acc: 0.8649\n",
      "Epoch 8/10\n",
      "2258/2258 [==============================] - ETA: 34s - loss: 0.0032 - acc: 1.00 - ETA: 34s - loss: 0.0034 - acc: 1.00 - ETA: 34s - loss: 0.0046 - acc: 1.00 - ETA: 33s - loss: 0.0043 - acc: 1.00 - ETA: 34s - loss: 0.0050 - acc: 1.00 - ETA: 33s - loss: 0.0051 - acc: 1.00 - ETA: 33s - loss: 0.0052 - acc: 1.00 - ETA: 32s - loss: 0.0054 - acc: 1.00 - ETA: 32s - loss: 0.0051 - acc: 1.00 - ETA: 32s - loss: 0.0048 - acc: 1.00 - ETA: 31s - loss: 0.0048 - acc: 1.00 - ETA: 31s - loss: 0.0053 - acc: 1.00 - ETA: 30s - loss: 0.0056 - acc: 1.00 - ETA: 30s - loss: 0.0064 - acc: 1.00 - ETA: 29s - loss: 0.0060 - acc: 1.00 - ETA: 29s - loss: 0.0063 - acc: 1.00 - ETA: 28s - loss: 0.0060 - acc: 1.00 - ETA: 28s - loss: 0.0059 - acc: 1.00 - ETA: 27s - loss: 0.0057 - acc: 1.00 - ETA: 26s - loss: 0.0057 - acc: 1.00 - ETA: 26s - loss: 0.0056 - acc: 1.00 - ETA: 25s - loss: 0.0056 - acc: 1.00 - ETA: 25s - loss: 0.0058 - acc: 1.00 - ETA: 24s - loss: 0.0057 - acc: 1.00 - ETA: 24s - loss: 0.0057 - acc: 1.00 - ETA: 23s - loss: 0.0056 - acc: 1.00 - ETA: 23s - loss: 0.0056 - acc: 1.00 - ETA: 22s - loss: 0.0056 - acc: 1.00 - ETA: 22s - loss: 0.0055 - acc: 1.00 - ETA: 22s - loss: 0.0054 - acc: 1.00 - ETA: 21s - loss: 0.0053 - acc: 1.00 - ETA: 21s - loss: 0.0060 - acc: 0.99 - ETA: 20s - loss: 0.0060 - acc: 0.99 - ETA: 20s - loss: 0.0059 - acc: 0.99 - ETA: 19s - loss: 0.0058 - acc: 0.99 - ETA: 19s - loss: 0.0057 - acc: 0.99 - ETA: 18s - loss: 0.0057 - acc: 0.99 - ETA: 18s - loss: 0.0056 - acc: 0.99 - ETA: 17s - loss: 0.0056 - acc: 0.99 - ETA: 16s - loss: 0.0055 - acc: 0.99 - ETA: 16s - loss: 0.0056 - acc: 0.99 - ETA: 15s - loss: 0.0055 - acc: 0.99 - ETA: 15s - loss: 0.0058 - acc: 0.99 - ETA: 14s - loss: 0.0057 - acc: 0.99 - ETA: 14s - loss: 0.0056 - acc: 0.99 - ETA: 13s - loss: 0.0055 - acc: 0.99 - ETA: 13s - loss: 0.0055 - acc: 0.99 - ETA: 12s - loss: 0.0057 - acc: 0.99 - ETA: 12s - loss: 0.0057 - acc: 0.99 - ETA: 11s - loss: 0.0057 - acc: 0.99 - ETA: 10s - loss: 0.0056 - acc: 0.99 - ETA: 10s - loss: 0.0056 - acc: 0.99 - ETA: 9s - loss: 0.0055 - acc: 0.9994 - ETA: 9s - loss: 0.0055 - acc: 0.999 - ETA: 8s - loss: 0.0054 - acc: 0.999 - ETA: 8s - loss: 0.0054 - acc: 0.999 - ETA: 7s - loss: 0.0054 - acc: 0.999 - ETA: 7s - loss: 0.0053 - acc: 0.999 - ETA: 6s - loss: 0.0053 - acc: 0.999 - ETA: 5s - loss: 0.0052 - acc: 0.999 - ETA: 5s - loss: 0.0052 - acc: 0.999 - ETA: 4s - loss: 0.0052 - acc: 0.999 - ETA: 4s - loss: 0.0052 - acc: 0.999 - ETA: 3s - loss: 0.0052 - acc: 0.999 - ETA: 3s - loss: 0.0052 - acc: 0.999 - ETA: 2s - loss: 0.0051 - acc: 0.999 - ETA: 2s - loss: 0.0051 - acc: 0.999 - ETA: 1s - loss: 0.0051 - acc: 0.999 - ETA: 0s - loss: 0.0051 - acc: 0.999 - ETA: 0s - loss: 0.0050 - acc: 0.999 - 55s 24ms/step - loss: 0.0050 - acc: 0.9996 - val_loss: 0.5051 - val_acc: 0.8640\n",
      "Epoch 9/10\n"
     ]
    },
    {
     "name": "stdout",
     "output_type": "stream",
     "text": [
      "2258/2258 [==============================] - ETA: 35s - loss: 0.0018 - acc: 1.00 - ETA: 36s - loss: 0.0026 - acc: 1.00 - ETA: 40s - loss: 0.0025 - acc: 1.00 - ETA: 39s - loss: 0.0026 - acc: 1.00 - ETA: 38s - loss: 0.0026 - acc: 1.00 - ETA: 37s - loss: 0.0028 - acc: 1.00 - ETA: 38s - loss: 0.0027 - acc: 1.00 - ETA: 38s - loss: 0.0027 - acc: 1.00 - ETA: 36s - loss: 0.0026 - acc: 1.00 - ETA: 35s - loss: 0.0031 - acc: 1.00 - ETA: 34s - loss: 0.0029 - acc: 1.00 - ETA: 33s - loss: 0.0028 - acc: 1.00 - ETA: 32s - loss: 0.0029 - acc: 1.00 - ETA: 32s - loss: 0.0035 - acc: 1.00 - ETA: 31s - loss: 0.0035 - acc: 1.00 - ETA: 30s - loss: 0.0033 - acc: 1.00 - ETA: 31s - loss: 0.0032 - acc: 1.00 - ETA: 30s - loss: 0.0032 - acc: 1.00 - ETA: 29s - loss: 0.0030 - acc: 1.00 - ETA: 29s - loss: 0.0029 - acc: 1.00 - ETA: 29s - loss: 0.0030 - acc: 1.00 - ETA: 28s - loss: 0.0029 - acc: 1.00 - ETA: 28s - loss: 0.0030 - acc: 1.00 - ETA: 27s - loss: 0.0029 - acc: 1.00 - ETA: 27s - loss: 0.0028 - acc: 1.00 - ETA: 26s - loss: 0.0028 - acc: 1.00 - ETA: 25s - loss: 0.0028 - acc: 1.00 - ETA: 25s - loss: 0.0028 - acc: 1.00 - ETA: 24s - loss: 0.0028 - acc: 1.00 - ETA: 23s - loss: 0.0027 - acc: 1.00 - ETA: 23s - loss: 0.0027 - acc: 1.00 - ETA: 22s - loss: 0.0027 - acc: 1.00 - ETA: 21s - loss: 0.0026 - acc: 1.00 - ETA: 21s - loss: 0.0026 - acc: 1.00 - ETA: 20s - loss: 0.0026 - acc: 1.00 - ETA: 20s - loss: 0.0026 - acc: 1.00 - ETA: 19s - loss: 0.0025 - acc: 1.00 - ETA: 18s - loss: 0.0025 - acc: 1.00 - ETA: 18s - loss: 0.0025 - acc: 1.00 - ETA: 17s - loss: 0.0024 - acc: 1.00 - ETA: 17s - loss: 0.0024 - acc: 1.00 - ETA: 16s - loss: 0.0024 - acc: 1.00 - ETA: 15s - loss: 0.0024 - acc: 1.00 - ETA: 15s - loss: 0.0024 - acc: 1.00 - ETA: 14s - loss: 0.0023 - acc: 1.00 - ETA: 14s - loss: 0.0024 - acc: 1.00 - ETA: 13s - loss: 0.0024 - acc: 1.00 - ETA: 12s - loss: 0.0024 - acc: 1.00 - ETA: 12s - loss: 0.0024 - acc: 1.00 - ETA: 11s - loss: 0.0024 - acc: 1.00 - ETA: 11s - loss: 0.0024 - acc: 1.00 - ETA: 10s - loss: 0.0024 - acc: 1.00 - ETA: 10s - loss: 0.0024 - acc: 1.00 - ETA: 9s - loss: 0.0024 - acc: 1.0000 - ETA: 9s - loss: 0.0024 - acc: 1.000 - ETA: 8s - loss: 0.0024 - acc: 1.000 - ETA: 7s - loss: 0.0024 - acc: 1.000 - ETA: 7s - loss: 0.0023 - acc: 1.000 - ETA: 6s - loss: 0.0023 - acc: 1.000 - ETA: 6s - loss: 0.0023 - acc: 1.000 - ETA: 5s - loss: 0.0023 - acc: 1.000 - ETA: 4s - loss: 0.0023 - acc: 1.000 - ETA: 4s - loss: 0.0023 - acc: 1.000 - ETA: 3s - loss: 0.0023 - acc: 1.000 - ETA: 3s - loss: 0.0023 - acc: 1.000 - ETA: 2s - loss: 0.0023 - acc: 1.000 - ETA: 2s - loss: 0.0023 - acc: 1.000 - ETA: 1s - loss: 0.0023 - acc: 1.000 - ETA: 0s - loss: 0.0023 - acc: 1.000 - ETA: 0s - loss: 0.0023 - acc: 1.000 - 54s 24ms/step - loss: 0.0023 - acc: 1.0000 - val_loss: 0.5301 - val_acc: 0.8649\n",
      "Epoch 10/10\n",
      "2258/2258 [==============================] - ETA: 35s - loss: 0.0023 - acc: 1.00 - ETA: 36s - loss: 0.0017 - acc: 1.00 - ETA: 35s - loss: 0.0016 - acc: 1.00 - ETA: 34s - loss: 0.0015 - acc: 1.00 - ETA: 34s - loss: 0.0016 - acc: 1.00 - ETA: 34s - loss: 0.0016 - acc: 1.00 - ETA: 33s - loss: 0.0019 - acc: 1.00 - ETA: 33s - loss: 0.0018 - acc: 1.00 - ETA: 32s - loss: 0.0020 - acc: 1.00 - ETA: 31s - loss: 0.0018 - acc: 1.00 - ETA: 31s - loss: 0.0018 - acc: 1.00 - ETA: 30s - loss: 0.0018 - acc: 1.00 - ETA: 31s - loss: 0.0018 - acc: 1.00 - ETA: 30s - loss: 0.0018 - acc: 1.00 - ETA: 30s - loss: 0.0018 - acc: 1.00 - ETA: 29s - loss: 0.0017 - acc: 1.00 - ETA: 29s - loss: 0.0017 - acc: 1.00 - ETA: 28s - loss: 0.0017 - acc: 1.00 - ETA: 28s - loss: 0.0017 - acc: 1.00 - ETA: 27s - loss: 0.0017 - acc: 1.00 - ETA: 26s - loss: 0.0016 - acc: 1.00 - ETA: 26s - loss: 0.0016 - acc: 1.00 - ETA: 25s - loss: 0.0016 - acc: 1.00 - ETA: 25s - loss: 0.0015 - acc: 1.00 - ETA: 24s - loss: 0.0015 - acc: 1.00 - ETA: 24s - loss: 0.0015 - acc: 1.00 - ETA: 23s - loss: 0.0015 - acc: 1.00 - ETA: 23s - loss: 0.0015 - acc: 1.00 - ETA: 22s - loss: 0.0014 - acc: 1.00 - ETA: 22s - loss: 0.0015 - acc: 1.00 - ETA: 21s - loss: 0.0015 - acc: 1.00 - ETA: 20s - loss: 0.0015 - acc: 1.00 - ETA: 20s - loss: 0.0014 - acc: 1.00 - ETA: 19s - loss: 0.0014 - acc: 1.00 - ETA: 19s - loss: 0.0014 - acc: 1.00 - ETA: 18s - loss: 0.0014 - acc: 1.00 - ETA: 18s - loss: 0.0014 - acc: 1.00 - ETA: 17s - loss: 0.0015 - acc: 1.00 - ETA: 17s - loss: 0.0015 - acc: 1.00 - ETA: 16s - loss: 0.0015 - acc: 1.00 - ETA: 16s - loss: 0.0014 - acc: 1.00 - ETA: 15s - loss: 0.0014 - acc: 1.00 - ETA: 15s - loss: 0.0014 - acc: 1.00 - ETA: 14s - loss: 0.0014 - acc: 1.00 - ETA: 14s - loss: 0.0014 - acc: 1.00 - ETA: 13s - loss: 0.0014 - acc: 1.00 - ETA: 13s - loss: 0.0014 - acc: 1.00 - ETA: 12s - loss: 0.0014 - acc: 1.00 - ETA: 12s - loss: 0.0015 - acc: 1.00 - ETA: 11s - loss: 0.0015 - acc: 1.00 - ETA: 10s - loss: 0.0015 - acc: 1.00 - ETA: 10s - loss: 0.0014 - acc: 1.00 - ETA: 9s - loss: 0.0014 - acc: 1.0000 - ETA: 9s - loss: 0.0014 - acc: 1.000 - ETA: 8s - loss: 0.0014 - acc: 1.000 - ETA: 8s - loss: 0.0014 - acc: 1.000 - ETA: 7s - loss: 0.0014 - acc: 1.000 - ETA: 7s - loss: 0.0014 - acc: 1.000 - ETA: 6s - loss: 0.0014 - acc: 1.000 - ETA: 5s - loss: 0.0014 - acc: 1.000 - ETA: 5s - loss: 0.0014 - acc: 1.000 - ETA: 4s - loss: 0.0014 - acc: 1.000 - ETA: 4s - loss: 0.0014 - acc: 1.000 - ETA: 3s - loss: 0.0014 - acc: 1.000 - ETA: 3s - loss: 0.0014 - acc: 1.000 - ETA: 2s - loss: 0.0014 - acc: 1.000 - ETA: 1s - loss: 0.0014 - acc: 1.000 - ETA: 1s - loss: 0.0014 - acc: 1.000 - ETA: 0s - loss: 0.0014 - acc: 1.000 - ETA: 0s - loss: 0.0014 - acc: 1.000 - 53s 23ms/step - loss: 0.0014 - acc: 1.0000 - val_loss: 0.5331 - val_acc: 0.8667\n"
     ]
    },
    {
     "data": {
      "text/plain": [
       "<tensorflow.python.keras.callbacks.History at 0x16b0fab9f60>"
      ]
     },
     "execution_count": 25,
     "metadata": {},
     "output_type": "execute_result"
    }
   ],
   "source": [
    "import tensorflow as tf\n",
    "from tensorflow.keras.models import Sequential\n",
    "from tensorflow.keras.layers import Dense, Dropout, Activation, Flatten\n",
    "from tensorflow.keras.layers import Conv2D, MaxPooling2D\n",
    "\n",
    "\n",
    "#create model\n",
    "model = Sequential()\n",
    "\n",
    "#add model layers\n",
    "model.add(Conv2D(64, kernel_size=3, activation='relu', input_shape=(50,50,1)))\n",
    "model.add(Conv2D(32, kernel_size=3, activation='relu'))\n",
    "model.add(Flatten())\n",
    "model.add(Dense(4, activation='softmax'))\n",
    "\n",
    "model.compile(optimizer='adam', loss='categorical_crossentropy', metrics=['accuracy'])\n",
    "model.fit(X_train, y_train,validation_data=(X_test, y_test), epochs=10)"
   ]
  },
  {
   "cell_type": "markdown",
   "metadata": {},
   "source": [
    "### I got accuracy of 1 and validationaccuracy of 86"
   ]
  },
  {
   "cell_type": "code",
   "execution_count": 103,
   "metadata": {},
   "outputs": [
    {
     "data": {
      "text/plain": [
       "array([[9.58280452e-07, 3.44969146e-02, 9.65461254e-01, 4.08112865e-05],\n",
       "       [5.39841354e-01, 2.01167604e-05, 9.92571339e-02, 3.60881418e-01],\n",
       "       [1.75101877e-17, 3.08057497e-04, 4.95847641e-03, 9.94733453e-01],\n",
       "       [6.58263758e-22, 9.88645570e-06, 6.27605884e-11, 9.99990106e-01],\n",
       "       [1.65278871e-23, 9.30569541e-08, 1.65773506e-09, 9.99999881e-01],\n",
       "       [1.14082734e-13, 9.99994993e-01, 1.79963365e-06, 3.20218419e-06],\n",
       "       [9.97005403e-01, 2.01490579e-07, 2.99436948e-03, 3.36895761e-10],\n",
       "       [1.18894120e-19, 2.27805397e-09, 1.27915512e-09, 1.00000000e+00],\n",
       "       [9.22241807e-01, 4.10933287e-09, 7.77582526e-02, 1.77138346e-10],\n",
       "       [5.13802995e-21, 9.99999881e-01, 9.76684191e-08, 1.46023424e-08]],\n",
       "      dtype=float32)"
      ]
     },
     "execution_count": 103,
     "metadata": {},
     "output_type": "execute_result"
    }
   ],
   "source": [
    "model.predict(X_test[:10])"
   ]
  },
  {
   "cell_type": "code",
   "execution_count": 104,
   "metadata": {},
   "outputs": [
    {
     "data": {
      "text/plain": [
       "array([[0., 0., 1., 0.],\n",
       "       [0., 0., 1., 0.],\n",
       "       [0., 0., 0., 1.],\n",
       "       [0., 0., 0., 1.],\n",
       "       [0., 0., 0., 1.],\n",
       "       [0., 1., 0., 0.],\n",
       "       [1., 0., 0., 0.],\n",
       "       [0., 0., 0., 1.],\n",
       "       [1., 0., 0., 0.],\n",
       "       [0., 1., 0., 0.]], dtype=float32)"
      ]
     },
     "execution_count": 104,
     "metadata": {},
     "output_type": "execute_result"
    }
   ],
   "source": [
    "y_test[:10]"
   ]
  },
  {
   "cell_type": "markdown",
   "metadata": {},
   "source": [
    "## To test the given test dataset -->resize to normalize data size"
   ]
  },
  {
   "cell_type": "code",
   "execution_count": 91,
   "metadata": {},
   "outputs": [
    {
     "name": "stderr",
     "output_type": "stream",
     "text": [
      "100%|██████████| 31/31 [00:02<00:00, 15.11it/s]\n"
     ]
    }
   ],
   "source": [
    "path = 'test'\n",
    "test= []\n",
    "for img in tqdm(os.listdir(path)):  \n",
    "\n",
    "    img_array = cv2.imread(os.path.join(path,img) ,cv2.THRESH_BINARY)  \n",
    "    new_array = cv2.resize(img_array, (IMG_SIZE, IMG_SIZE))  \n",
    "    test.append(new_array)\n",
    "\n",
    "test  = np.array(test).reshape(-1, IMG_SIZE, IMG_SIZE, 1)"
   ]
  },
  {
   "cell_type": "code",
   "execution_count": 92,
   "metadata": {},
   "outputs": [
    {
     "data": {
      "image/png": "[encoded data removed]",
      "text/plain": [
       "<Figure size 432x288 with 1 Axes>"
      ]
     },
     "metadata": {},
     "output_type": "display_data"
    }
   ],
   "source": [
    "plt.imshow(new_array, cmap='gray')\n",
    "plt.show()"
   ]
  },
  {
   "cell_type": "code",
   "execution_count": 33,
   "metadata": {},
   "outputs": [
    {
     "name": "stdout",
     "output_type": "stream",
     "text": [
      "[[[[0.        ]\n",
      "   [0.        ]\n",
      "   [0.00392157]\n",
      "   ...\n",
      "   [1.        ]\n",
      "   [1.        ]\n",
      "   [1.        ]]\n",
      "\n",
      "  [[0.01568627]\n",
      "   [0.00392157]\n",
      "   [0.        ]\n",
      "   ...\n",
      "   [1.        ]\n",
      "   [1.        ]\n",
      "   [1.        ]]\n",
      "\n",
      "  [[0.99607843]\n",
      "   [0.99607843]\n",
      "   [0.17254902]\n",
      "   ...\n",
      "   [1.        ]\n",
      "   [1.        ]\n",
      "   [1.        ]]\n",
      "\n",
      "  ...\n",
      "\n",
      "  [[1.        ]\n",
      "   [1.        ]\n",
      "   [1.        ]\n",
      "   ...\n",
      "   [1.        ]\n",
      "   [1.        ]\n",
      "   [1.        ]]\n",
      "\n",
      "  [[1.        ]\n",
      "   [1.        ]\n",
      "   [1.        ]\n",
      "   ...\n",
      "   [1.        ]\n",
      "   [1.        ]\n",
      "   [1.        ]]\n",
      "\n",
      "  [[1.        ]\n",
      "   [1.        ]\n",
      "   [1.        ]\n",
      "   ...\n",
      "   [1.        ]\n",
      "   [1.        ]\n",
      "   [1.        ]]]]\n"
     ]
    }
   ],
   "source": [
    "test = []\n",
    "test.append(new_array)\n",
    "print(X[0].reshape(-1, IMG_SIZE, IMG_SIZE, 1))\n",
    "\n"
   ]
  },
  {
   "cell_type": "markdown",
   "metadata": {},
   "source": [
    "## prediction for 31 images in test dataset (which is given)"
   ]
  },
  {
   "cell_type": "code",
   "execution_count": 93,
   "metadata": {},
   "outputs": [
    {
     "name": "stdout",
     "output_type": "stream",
     "text": [
      "31/31 [==============================] - 0s 9ms/step\n"
     ]
    },
    {
     "data": {
      "text/plain": [
       "array([[1.000000e+00, 0.000000e+00, 0.000000e+00, 0.000000e+00],\n",
       "       [0.000000e+00, 1.000000e+00, 0.000000e+00, 0.000000e+00],\n",
       "       [0.000000e+00, 0.000000e+00, 0.000000e+00, 1.000000e+00],\n",
       "       [0.000000e+00, 0.000000e+00, 0.000000e+00, 1.000000e+00],\n",
       "       [0.000000e+00, 0.000000e+00, 1.000000e+00, 0.000000e+00],\n",
       "       [0.000000e+00, 0.000000e+00, 1.000000e+00, 0.000000e+00],\n",
       "       [0.000000e+00, 1.000000e+00, 0.000000e+00, 0.000000e+00],\n",
       "       [0.000000e+00, 0.000000e+00, 0.000000e+00, 1.000000e+00],\n",
       "       [0.000000e+00, 1.000000e+00, 0.000000e+00, 0.000000e+00],\n",
       "       [0.000000e+00, 1.000000e+00, 0.000000e+00, 0.000000e+00],\n",
       "       [0.000000e+00, 1.000000e+00, 0.000000e+00, 0.000000e+00],\n",
       "       [0.000000e+00, 1.000000e+00, 0.000000e+00, 0.000000e+00],\n",
       "       [0.000000e+00, 1.000000e+00, 0.000000e+00, 0.000000e+00],\n",
       "       [0.000000e+00, 1.000000e+00, 0.000000e+00, 0.000000e+00],\n",
       "       [0.000000e+00, 0.000000e+00, 0.000000e+00, 1.000000e+00],\n",
       "       [0.000000e+00, 1.000000e+00, 0.000000e+00, 0.000000e+00],\n",
       "       [0.000000e+00, 1.000000e+00, 4.626482e-20, 0.000000e+00],\n",
       "       [0.000000e+00, 0.000000e+00, 1.000000e+00, 0.000000e+00],\n",
       "       [0.000000e+00, 0.000000e+00, 1.000000e+00, 0.000000e+00],\n",
       "       [0.000000e+00, 1.000000e+00, 0.000000e+00, 0.000000e+00],\n",
       "       [0.000000e+00, 0.000000e+00, 1.000000e+00, 0.000000e+00],\n",
       "       [0.000000e+00, 0.000000e+00, 1.000000e+00, 0.000000e+00],\n",
       "       [0.000000e+00, 1.000000e+00, 0.000000e+00, 0.000000e+00],\n",
       "       [0.000000e+00, 1.000000e+00, 0.000000e+00, 0.000000e+00],\n",
       "       [0.000000e+00, 0.000000e+00, 0.000000e+00, 1.000000e+00],\n",
       "       [0.000000e+00, 1.000000e+00, 0.000000e+00, 0.000000e+00],\n",
       "       [1.000000e+00, 0.000000e+00, 0.000000e+00, 0.000000e+00],\n",
       "       [0.000000e+00, 0.000000e+00, 1.000000e+00, 0.000000e+00],\n",
       "       [0.000000e+00, 1.000000e+00, 0.000000e+00, 0.000000e+00],\n",
       "       [0.000000e+00, 0.000000e+00, 1.000000e+00, 0.000000e+00],\n",
       "       [0.000000e+00, 0.000000e+00, 1.000000e+00, 0.000000e+00]],\n",
       "      dtype=float32)"
      ]
     },
     "execution_count": 93,
     "metadata": {},
     "output_type": "execute_result"
    }
   ],
   "source": [
    "pred = model.predict(test[:31],verbose=1)\n",
    "pred"
   ]
  },
  {
   "cell_type": "markdown",
   "metadata": {},
   "source": [
    "## visualize the result in proper format"
   ]
  },
  {
   "cell_type": "code",
   "execution_count": 94,
   "metadata": {},
   "outputs": [],
   "source": [
    "pp = []\n",
    "\n",
    "output = ['category 1','category 2','category 3','category 4']\n",
    "num =0\n",
    "for cat in pred:\n",
    "    if cat[[0]]>num:\n",
    "        pp.append('category 1')\n",
    "    elif cat[[1]]>num:\n",
    "        pp.append('category 2')\n",
    "    elif cat[[2]]>num:\n",
    "        pp.append('category 3')\n",
    "    elif cat[[3]]>num:\n",
    "        pp.append('category 4')\n",
    "        \n",
    "    \n",
    "    "
   ]
  },
  {
   "cell_type": "code",
   "execution_count": 95,
   "metadata": {},
   "outputs": [
    {
     "data": {
      "text/plain": [
       "['category 1',\n",
       " 'category 2',\n",
       " 'category 4',\n",
       " 'category 4',\n",
       " 'category 3',\n",
       " 'category 3',\n",
       " 'category 2',\n",
       " 'category 4',\n",
       " 'category 2',\n",
       " 'category 2',\n",
       " 'category 2',\n",
       " 'category 2',\n",
       " 'category 2',\n",
       " 'category 2',\n",
       " 'category 4',\n",
       " 'category 2',\n",
       " 'category 2',\n",
       " 'category 3',\n",
       " 'category 3',\n",
       " 'category 2',\n",
       " 'category 3',\n",
       " 'category 3',\n",
       " 'category 2',\n",
       " 'category 2',\n",
       " 'category 4',\n",
       " 'category 2',\n",
       " 'category 1',\n",
       " 'category 3',\n",
       " 'category 2',\n",
       " 'category 3',\n",
       " 'category 3']"
      ]
     },
     "execution_count": 95,
     "metadata": {},
     "output_type": "execute_result"
    }
   ],
   "source": [
    "pp"
   ]
  },
  {
   "cell_type": "markdown",
   "metadata": {},
   "source": [
    "## convert results into csv file format "
   ]
  },
  {
   "cell_type": "code",
   "execution_count": 101,
   "metadata": {},
   "outputs": [
    {
     "data": {
      "text/html": [
       "<div>\n",
       "<style scoped>\n",
       "    .dataframe tbody tr th:only-of-type {\n",
       "        vertical-align: middle;\n",
       "    }\n",
       "\n",
       "    .dataframe tbody tr th {\n",
       "        vertical-align: top;\n",
       "    }\n",
       "\n",
       "    .dataframe thead th {\n",
       "        text-align: right;\n",
       "    }\n",
       "</style>\n",
       "<table border=\"1\" class=\"dataframe\">\n",
       "  <thead>\n",
       "    <tr style=\"text-align: right;\">\n",
       "      <th></th>\n",
       "      <th>filename/image_id</th>\n",
       "      <th>actual</th>\n",
       "      <th>prediction</th>\n",
       "    </tr>\n",
       "  </thead>\n",
       "  <tbody>\n",
       "    <tr>\n",
       "      <th>0</th>\n",
       "      <td>test/01.jpeg</td>\n",
       "      <td>category 1</td>\n",
       "      <td>category 1</td>\n",
       "    </tr>\n",
       "    <tr>\n",
       "      <th>1</th>\n",
       "      <td>test/02.jpeg</td>\n",
       "      <td>category 3</td>\n",
       "      <td>category 2</td>\n",
       "    </tr>\n",
       "    <tr>\n",
       "      <th>2</th>\n",
       "      <td>test/03.jpeg</td>\n",
       "      <td>category 4</td>\n",
       "      <td>category 4</td>\n",
       "    </tr>\n",
       "    <tr>\n",
       "      <th>3</th>\n",
       "      <td>test/04.jpeg</td>\n",
       "      <td>category 4</td>\n",
       "      <td>category 4</td>\n",
       "    </tr>\n",
       "    <tr>\n",
       "      <th>4</th>\n",
       "      <td>test/05.jpeg</td>\n",
       "      <td>category 3</td>\n",
       "      <td>category 3</td>\n",
       "    </tr>\n",
       "    <tr>\n",
       "      <th>5</th>\n",
       "      <td>test/06.jpeg</td>\n",
       "      <td>category 3</td>\n",
       "      <td>category 3</td>\n",
       "    </tr>\n",
       "    <tr>\n",
       "      <th>6</th>\n",
       "      <td>test/07.jpeg</td>\n",
       "      <td>category 2</td>\n",
       "      <td>category 2</td>\n",
       "    </tr>\n",
       "    <tr>\n",
       "      <th>7</th>\n",
       "      <td>test/08.jpeg</td>\n",
       "      <td>category 4</td>\n",
       "      <td>category 4</td>\n",
       "    </tr>\n",
       "    <tr>\n",
       "      <th>8</th>\n",
       "      <td>test/09.jpeg</td>\n",
       "      <td>category 2</td>\n",
       "      <td>category 2</td>\n",
       "    </tr>\n",
       "    <tr>\n",
       "      <th>9</th>\n",
       "      <td>test/10.jpeg</td>\n",
       "      <td>category 2</td>\n",
       "      <td>category 2</td>\n",
       "    </tr>\n",
       "    <tr>\n",
       "      <th>10</th>\n",
       "      <td>test/11.jpeg</td>\n",
       "      <td>category 2</td>\n",
       "      <td>category 2</td>\n",
       "    </tr>\n",
       "    <tr>\n",
       "      <th>11</th>\n",
       "      <td>test/12.jpeg</td>\n",
       "      <td>category 2</td>\n",
       "      <td>category 2</td>\n",
       "    </tr>\n",
       "    <tr>\n",
       "      <th>12</th>\n",
       "      <td>test/13.jpeg</td>\n",
       "      <td>category 2</td>\n",
       "      <td>category 2</td>\n",
       "    </tr>\n",
       "    <tr>\n",
       "      <th>13</th>\n",
       "      <td>test/14.jpeg</td>\n",
       "      <td>category 2</td>\n",
       "      <td>category 2</td>\n",
       "    </tr>\n",
       "    <tr>\n",
       "      <th>14</th>\n",
       "      <td>test/15.jpeg</td>\n",
       "      <td>category 4</td>\n",
       "      <td>category 4</td>\n",
       "    </tr>\n",
       "    <tr>\n",
       "      <th>15</th>\n",
       "      <td>test/16.jpeg</td>\n",
       "      <td>category 3</td>\n",
       "      <td>category 2</td>\n",
       "    </tr>\n",
       "    <tr>\n",
       "      <th>16</th>\n",
       "      <td>test/17.jpeg</td>\n",
       "      <td>category 3</td>\n",
       "      <td>category 2</td>\n",
       "    </tr>\n",
       "    <tr>\n",
       "      <th>17</th>\n",
       "      <td>test/18.jpeg</td>\n",
       "      <td>category 1</td>\n",
       "      <td>category 3</td>\n",
       "    </tr>\n",
       "    <tr>\n",
       "      <th>18</th>\n",
       "      <td>test/19.jpeg</td>\n",
       "      <td>category 3</td>\n",
       "      <td>category 3</td>\n",
       "    </tr>\n",
       "    <tr>\n",
       "      <th>19</th>\n",
       "      <td>test/20.jpeg</td>\n",
       "      <td>category 3</td>\n",
       "      <td>category 2</td>\n",
       "    </tr>\n",
       "    <tr>\n",
       "      <th>20</th>\n",
       "      <td>test/21.jpeg</td>\n",
       "      <td>category 3</td>\n",
       "      <td>category 3</td>\n",
       "    </tr>\n",
       "    <tr>\n",
       "      <th>21</th>\n",
       "      <td>test/22.jpeg</td>\n",
       "      <td>category 3</td>\n",
       "      <td>category 3</td>\n",
       "    </tr>\n",
       "    <tr>\n",
       "      <th>22</th>\n",
       "      <td>test/23.jpeg</td>\n",
       "      <td>category 2</td>\n",
       "      <td>category 2</td>\n",
       "    </tr>\n",
       "    <tr>\n",
       "      <th>23</th>\n",
       "      <td>test/24.jpeg</td>\n",
       "      <td>category 1</td>\n",
       "      <td>category 2</td>\n",
       "    </tr>\n",
       "    <tr>\n",
       "      <th>24</th>\n",
       "      <td>test/25.jpeg</td>\n",
       "      <td>category 4</td>\n",
       "      <td>category 4</td>\n",
       "    </tr>\n",
       "    <tr>\n",
       "      <th>25</th>\n",
       "      <td>test/26.jpeg</td>\n",
       "      <td>category 2</td>\n",
       "      <td>category 2</td>\n",
       "    </tr>\n",
       "    <tr>\n",
       "      <th>26</th>\n",
       "      <td>test/27.jpeg</td>\n",
       "      <td>category 1</td>\n",
       "      <td>category 1</td>\n",
       "    </tr>\n",
       "    <tr>\n",
       "      <th>27</th>\n",
       "      <td>test/28.jpeg</td>\n",
       "      <td>category 1</td>\n",
       "      <td>category 3</td>\n",
       "    </tr>\n",
       "    <tr>\n",
       "      <th>28</th>\n",
       "      <td>test/29.jpeg</td>\n",
       "      <td>category 3</td>\n",
       "      <td>category 2</td>\n",
       "    </tr>\n",
       "    <tr>\n",
       "      <th>29</th>\n",
       "      <td>test/30.jpeg</td>\n",
       "      <td>category 1</td>\n",
       "      <td>category 3</td>\n",
       "    </tr>\n",
       "    <tr>\n",
       "      <th>30</th>\n",
       "      <td>test/31.jpeg</td>\n",
       "      <td>category 3</td>\n",
       "      <td>category 3</td>\n",
       "    </tr>\n",
       "  </tbody>\n",
       "</table>\n",
       "</div>"
      ],
      "text/plain": [
       "   filename/image_id      actual  prediction\n",
       "0       test/01.jpeg  category 1  category 1\n",
       "1       test/02.jpeg  category 3  category 2\n",
       "2       test/03.jpeg  category 4  category 4\n",
       "3       test/04.jpeg  category 4  category 4\n",
       "4       test/05.jpeg  category 3  category 3\n",
       "5       test/06.jpeg  category 3  category 3\n",
       "6       test/07.jpeg  category 2  category 2\n",
       "7       test/08.jpeg  category 4  category 4\n",
       "8       test/09.jpeg  category 2  category 2\n",
       "9       test/10.jpeg  category 2  category 2\n",
       "10      test/11.jpeg  category 2  category 2\n",
       "11      test/12.jpeg  category 2  category 2\n",
       "12      test/13.jpeg  category 2  category 2\n",
       "13      test/14.jpeg  category 2  category 2\n",
       "14      test/15.jpeg  category 4  category 4\n",
       "15      test/16.jpeg  category 3  category 2\n",
       "16      test/17.jpeg  category 3  category 2\n",
       "17      test/18.jpeg  category 1  category 3\n",
       "18      test/19.jpeg  category 3  category 3\n",
       "19      test/20.jpeg  category 3  category 2\n",
       "20      test/21.jpeg  category 3  category 3\n",
       "21      test/22.jpeg  category 3  category 3\n",
       "22      test/23.jpeg  category 2  category 2\n",
       "23      test/24.jpeg  category 1  category 2\n",
       "24      test/25.jpeg  category 4  category 4\n",
       "25      test/26.jpeg  category 2  category 2\n",
       "26      test/27.jpeg  category 1  category 1\n",
       "27      test/28.jpeg  category 1  category 3\n",
       "28      test/29.jpeg  category 3  category 2\n",
       "29      test/30.jpeg  category 1  category 3\n",
       "30      test/31.jpeg  category 3  category 3"
      ]
     },
     "execution_count": 101,
     "metadata": {},
     "output_type": "execute_result"
    }
   ],
   "source": [
    "import pandas as pd\n",
    "from pandas import DataFrame\n",
    "\n",
    "path = 'test/'\n",
    "#for i in path:\n",
    "files = []\n",
    "# r=root, d=directories, f = files\n",
    "for r, d,f in os.walk(path):\n",
    "    for file in f:\n",
    "        if '.jpeg' in file:\n",
    "            files.append(os.path.join(r, file)) \n",
    "# for f in files:\n",
    "#     print(f)\n",
    "act = ['category 1',\n",
    " 'category 3',\n",
    " 'category 4',\n",
    " 'category 4',\n",
    " 'category 3',\n",
    " 'category 3',\n",
    " 'category 2',\n",
    " 'category 4',\n",
    " 'category 2',\n",
    " 'category 2',\n",
    " 'category 2',\n",
    " 'category 2',\n",
    " 'category 2',\n",
    " 'category 2',\n",
    " 'category 4',\n",
    " 'category 3',\n",
    " 'category 3',\n",
    " 'category 1',\n",
    " 'category 3',\n",
    " 'category 3',\n",
    " 'category 3',\n",
    " 'category 3',\n",
    " 'category 2',\n",
    " 'category 1',\n",
    " 'category 4',\n",
    " 'category 2',\n",
    " 'category 1',\n",
    " 'category 1',\n",
    " 'category 3',\n",
    " 'category 1',\n",
    " 'category 3']\n",
    "            \n",
    "test_images = model.predict(test)\n",
    "df = pd.DataFrame({\n",
    "    'filename/image_id':files,\n",
    "    'actual':act,\n",
    "    'prediction':pp,\n",
    "    \n",
    "})\n",
    "\n",
    "df.head(31)"
   ]
  },
  {
   "cell_type": "code",
   "execution_count": 102,
   "metadata": {},
   "outputs": [],
   "source": [
    "df.to_csv('result.csv')"
   ]
  },
  {
   "cell_type": "code",
   "execution_count": null,
   "metadata": {},
   "outputs": [],
   "source": []
  }
 ],
 "metadata": {
  "kernelspec": {
   "display_name": "Python 3",
   "language": "python",
   "name": "python3"
  },
  "language_info": {
   "codemirror_mode": {
    "name": "ipython",
    "version": 3
   },
   "file_extension": ".py",
   "mimetype": "text/x-python",
   "name": "python",
   "nbconvert_exporter": "python",
   "pygments_lexer": "ipython3",
   "version": "3.6.5"
  }
 },
 "nbformat": 4,
 "nbformat_minor": 2
}
